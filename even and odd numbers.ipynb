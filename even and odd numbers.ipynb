{
 "cells": [
  {
   "cell_type": "code",
   "execution_count": 1,
   "id": "eae481d6",
   "metadata": {},
   "outputs": [],
   "source": [
    "numbers=(1,2,3,4,5,6,7,8,9)"
   ]
  },
  {
   "cell_type": "code",
   "execution_count": 2,
   "id": "0a7c312b",
   "metadata": {},
   "outputs": [],
   "source": [
    "count_odd = 0"
   ]
  },
  {
   "cell_type": "code",
   "execution_count": 3,
   "id": "aa58830b",
   "metadata": {},
   "outputs": [],
   "source": [
    "count_even = 0"
   ]
  },
  {
   "cell_type": "code",
   "execution_count": 4,
   "id": "d1c35f8b",
   "metadata": {},
   "outputs": [],
   "source": [
    "for x in numbers:\n",
    "    if x % 2==0:\n",
    "        count_even+=1\n",
    "    else:\n",
    "        count_odd+=1"
   ]
  },
  {
   "cell_type": "code",
   "execution_count": 5,
   "id": "082c6ea5",
   "metadata": {},
   "outputs": [
    {
     "name": "stdout",
     "output_type": "stream",
     "text": [
      "number of even numbers: 4\n",
      "number of odd numbers: 5\n"
     ]
    }
   ],
   "source": [
    "print(\"number of even numbers:\",count_even)\n",
    "print(\"number of odd numbers:\",count_odd)"
   ]
  },
  {
   "cell_type": "code",
   "execution_count": null,
   "id": "42b95d64",
   "metadata": {},
   "outputs": [],
   "source": []
  }
 ],
 "metadata": {
  "kernelspec": {
   "display_name": "Python 3",
   "language": "python",
   "name": "python3"
  },
  "language_info": {
   "codemirror_mode": {
    "name": "ipython",
    "version": 3
   },
   "file_extension": ".py",
   "mimetype": "text/x-python",
   "name": "python",
   "nbconvert_exporter": "python",
   "pygments_lexer": "ipython3",
   "version": "3.8.8"
  }
 },
 "nbformat": 4,
 "nbformat_minor": 5
}
